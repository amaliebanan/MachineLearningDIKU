{
 "cells": [
  {
   "cell_type": "markdown",
   "metadata": {},
   "source": [
    "# Linear Regression\n",
    "## Template for solution, Christian Igel, 2020\n",
    "### Load and transform data "
   ]
  },
  {
   "cell_type": "markdown",
   "metadata": {},
   "source": [
    "#### Loading data using NumPy\n",
    "First, we load the data using [NumPy](https://numpy.org/). First, we import the package:"
   ]
  },
  {
   "cell_type": "code",
   "execution_count": 1,
   "metadata": {},
   "outputs": [],
   "source": [
    "import numpy as np"
   ]
  },
  {
   "cell_type": "markdown",
   "metadata": {},
   "source": [
    "Now we load the data from the data file. The colums are separated by tab characters (a format called TSV, tab-separated values):"
   ]
  },
  {
   "cell_type": "code",
   "execution_count": 2,
   "metadata": {},
   "outputs": [
    {
     "name": "stdout",
     "output_type": "stream",
     "text": [
      "[[ 1.   0.6]\n",
      " [ 6.   3.4]\n",
      " [ 1.   1.6]\n",
      " [ 6.   9.7]\n",
      " [ 1.   0.5]\n",
      " [ 6.   8.6]\n",
      " [ 1.   1.2]\n",
      " [ 7.   4. ]\n",
      " [ 2.   2. ]\n",
      " [ 7.   5.5]\n",
      " [ 2.   1.3]\n",
      " [ 7.  10.5]\n",
      " [ 2.   2.5]\n",
      " [ 8.  17.5]\n",
      " [ 3.   2.2]\n",
      " [ 8.  13.4]\n",
      " [ 3.   2.4]\n",
      " [ 8.   4.5]\n",
      " [ 3.   1.2]\n",
      " [ 9.  30.4]\n",
      " [ 4.   3.5]\n",
      " [11.  12.4]\n",
      " [ 4.   4.1]\n",
      " [12.  13.4]\n",
      " [ 4.   5.1]\n",
      " [12.  26.2]\n",
      " [ 5.   5.7]\n",
      " [12.   7.4]]\n"
     ]
    }
   ],
   "source": [
    "data = np.genfromtxt('PCB.dt', delimiter='\\t')\n",
    "print(data)"
   ]
  },
  {
   "cell_type": "markdown",
   "metadata": {},
   "source": [
    "Remember, if you would like to know more about a function, for example `np.genfromtxt`, you can call `?np.genfromtxt` in you notebook."
   ]
  },
  {
   "cell_type": "markdown",
   "metadata": {},
   "source": [
    "Now we split that data into inputs and labels. We would like the inputs to be represented as a matrix (and not just a vector), therefore we reshape them:"
   ]
  },
  {
   "cell_type": "code",
   "execution_count": null,
   "metadata": {},
   "outputs": [],
   "source": [
    "x = data[...,0].reshape(-1, 1)  # Take first column, and reshape it to 2D vector\n",
    "y = data[...,1]  # Take second column\n",
    "print(\"x:\", x)\n",
    "print(\"y:\", y)"
   ]
  },
  {
   "cell_type": "markdown",
   "metadata": {},
   "source": [
    "Note that you are supposed to transform the labels in the assignment.\n",
    "#### Loading data using pandas\n",
    "Alternatively, we can load the data using [pandas](https://pandas.pydata.org/). First, we import the package:"
   ]
  },
  {
   "cell_type": "code",
   "execution_count": null,
   "metadata": {},
   "outputs": [],
   "source": [
    "import pandas as pd"
   ]
  },
  {
   "cell_type": "markdown",
   "metadata": {},
   "source": [
    "Now we load the data from the data file into a data frame and give the columns names: "
   ]
  },
  {
   "cell_type": "code",
   "execution_count": null,
   "metadata": {},
   "outputs": [],
   "source": [
    "df = pd.read_csv(\"PCB.dt\", sep='\\t', header=None, names=['X', 'Y'])\n",
    "df"
   ]
  },
  {
   "cell_type": "markdown",
   "metadata": {},
   "source": [
    "The argument `header=None` indicates that the data file itself does not contain a header line with the column names.  Now we can do stuff like sorting according to the first value:"
   ]
  },
  {
   "cell_type": "code",
   "execution_count": null,
   "metadata": {},
   "outputs": [],
   "source": [
    "df = df.sort_values(by='X')"
   ]
  },
  {
   "cell_type": "markdown",
   "metadata": {},
   "source": [
    "You get NumPy arrays from the data frame like this:"
   ]
  },
  {
   "cell_type": "code",
   "execution_count": null,
   "metadata": {},
   "outputs": [],
   "source": [
    "x = df['X'].to_numpy().reshape(-1, 1)\n",
    "y = df['Y'].to_numpy()\n",
    "print(\"x:\", x)\n",
    "print(\"y:\", y)"
   ]
  },
  {
   "cell_type": "markdown",
   "metadata": {},
   "source": [
    "Note that you are supposed to transform the labels in the assignment."
   ]
  },
  {
   "cell_type": "markdown",
   "metadata": {},
   "source": [
    "### Fit regression model\n",
    "This you have to figure out yourself."
   ]
  },
  {
   "cell_type": "markdown",
   "metadata": {},
   "source": [
    "### Plotting results\n",
    "We plot using [Matplotlib](https://matplotlib.org/):"
   ]
  },
  {
   "cell_type": "code",
   "execution_count": null,
   "metadata": {},
   "outputs": [],
   "source": [
    "import matplotlib.pyplot as plt"
   ]
  },
  {
   "cell_type": "markdown",
   "metadata": {},
   "source": [
    "Here is an example how you can plot the measurements (note that in the assignment you should plot the logarithm of the PCB concentration):"
   ]
  },
  {
   "cell_type": "code",
   "execution_count": null,
   "metadata": {},
   "outputs": [],
   "source": [
    "fig, ax = plt.subplots()\n",
    "ax.plot(x, y, 'o', label='measurements')\n",
    "ax.set_xlabel('Age (yrs.)')\n",
    "ax.set_ylabel('PCB Conc. (ppm)')\n",
    "ax.legend();"
   ]
  },
  {
   "cell_type": "markdown",
   "metadata": {},
   "source": [
    "Figures should be shown in your report, it is not sufficient to have them in a notebook. Thus, we save the figure:"
   ]
  },
  {
   "cell_type": "code",
   "execution_count": null,
   "metadata": {},
   "outputs": [],
   "source": [
    "fig.savefig('Assignment1_Question6_Plot1.pdf')"
   ]
  },
  {
   "cell_type": "code",
   "execution_count": null,
   "metadata": {},
   "outputs": [],
   "source": []
  }
 ],
 "metadata": {
  "kernelspec": {
   "display_name": "Python 3",
   "language": "python",
   "name": "python3"
  },
  "language_info": {
   "codemirror_mode": {
    "name": "ipython",
    "version": 3
   },
   "file_extension": ".py",
   "mimetype": "text/x-python",
   "name": "python",
   "nbconvert_exporter": "python",
   "pygments_lexer": "ipython3",
   "version": "3.6.12"
  }
 },
 "nbformat": 4,
 "nbformat_minor": 2
}
